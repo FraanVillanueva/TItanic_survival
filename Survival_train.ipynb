{
 "cells": [
  {
   "cell_type": "code",
   "execution_count": 3,
   "id": "604c2e03-5210-4006-810c-ba8dd5d1fc82",
   "metadata": {},
   "outputs": [],
   "source": [
    "import pandas as pd\n",
    "from sklearn import tree\n",
    "import numpy as np\n",
    "\n",
    "data=pd.read_csv(\"dataset_titanic.csv\",usecols =['PassengerId','Survived','Pclass','Sex','Age','SibSp','Parch','Cabin'])"
   ]
  },
  {
   "cell_type": "markdown",
   "id": "b1519087-447a-4622-b20e-77e69137d857",
   "metadata": {},
   "source": [
    "- Saqué columnas que  que no aportan a la predicción de quien sobreviven  Nombre, Ticket, Fare y Embarked).\n",
    "\n",
    "- Se revisará tipo de input y se cambiará a int si es que no lo es para pasar todo a numero."
   ]
  },
  {
   "cell_type": "code",
   "execution_count": 4,
   "id": "7cb2ea02-a324-4124-ad06-0e7218e018a5",
   "metadata": {},
   "outputs": [
    {
     "data": {
      "text/plain": [
       "PassengerId      0\n",
       "Survived         0\n",
       "Pclass           0\n",
       "Sex              0\n",
       "Age            177\n",
       "SibSp            0\n",
       "Parch            0\n",
       "Cabin          687\n",
       "dtype: int64"
      ]
     },
     "execution_count": 4,
     "metadata": {},
     "output_type": "execute_result"
    }
   ],
   "source": [
    "data.isna().sum()"
   ]
  },
  {
   "cell_type": "code",
   "execution_count": 5,
   "id": "9f5e6355-6384-47b9-b7ae-1655cd5f532f",
   "metadata": {},
   "outputs": [
    {
     "data": {
      "text/plain": [
       "891"
      ]
     },
     "execution_count": 5,
     "metadata": {},
     "output_type": "execute_result"
    }
   ],
   "source": [
    "len(data[\"Survived\"])"
   ]
  },
  {
   "cell_type": "markdown",
   "id": "96171e74-b5dd-4835-a63e-46594ad4d6a5",
   "metadata": {},
   "source": [
    "- Se quitará la columna Cabina debido a que el 77% de sus datos son nulos, por lo que no dará un aporte al training de los modelos.\n",
    "- La columna Age tiene un 17% por lo que estos se rellenarán como 0 y se evaluará su influencia en el mejoramiento de cada modelo.\n",
    "- Pasaré Sex a númerico Femenino=0 Masculino=1 para tener todos los datos numéricos y poder hacer correlación.\n"
   ]
  },
  {
   "cell_type": "code",
   "execution_count": 6,
   "id": "d056e3b7-1c12-4be1-bfe5-8fdd9069b738",
   "metadata": {},
   "outputs": [
    {
     "data": {
      "text/html": [
       "<div>\n",
       "<style scoped>\n",
       "    .dataframe tbody tr th:only-of-type {\n",
       "        vertical-align: middle;\n",
       "    }\n",
       "\n",
       "    .dataframe tbody tr th {\n",
       "        vertical-align: top;\n",
       "    }\n",
       "\n",
       "    .dataframe thead th {\n",
       "        text-align: right;\n",
       "    }\n",
       "</style>\n",
       "<table border=\"1\" class=\"dataframe\">\n",
       "  <thead>\n",
       "    <tr style=\"text-align: right;\">\n",
       "      <th></th>\n",
       "      <th>PassengerId</th>\n",
       "      <th>Survived</th>\n",
       "      <th>Pclass</th>\n",
       "      <th>Sex</th>\n",
       "      <th>Age</th>\n",
       "      <th>SibSp</th>\n",
       "      <th>Parch</th>\n",
       "    </tr>\n",
       "  </thead>\n",
       "  <tbody>\n",
       "    <tr>\n",
       "      <th>0</th>\n",
       "      <td>1</td>\n",
       "      <td>0</td>\n",
       "      <td>3</td>\n",
       "      <td>1</td>\n",
       "      <td>22</td>\n",
       "      <td>1</td>\n",
       "      <td>0</td>\n",
       "    </tr>\n",
       "    <tr>\n",
       "      <th>1</th>\n",
       "      <td>2</td>\n",
       "      <td>1</td>\n",
       "      <td>1</td>\n",
       "      <td>0</td>\n",
       "      <td>38</td>\n",
       "      <td>1</td>\n",
       "      <td>0</td>\n",
       "    </tr>\n",
       "    <tr>\n",
       "      <th>2</th>\n",
       "      <td>3</td>\n",
       "      <td>1</td>\n",
       "      <td>3</td>\n",
       "      <td>0</td>\n",
       "      <td>26</td>\n",
       "      <td>0</td>\n",
       "      <td>0</td>\n",
       "    </tr>\n",
       "    <tr>\n",
       "      <th>3</th>\n",
       "      <td>4</td>\n",
       "      <td>1</td>\n",
       "      <td>1</td>\n",
       "      <td>0</td>\n",
       "      <td>35</td>\n",
       "      <td>1</td>\n",
       "      <td>0</td>\n",
       "    </tr>\n",
       "    <tr>\n",
       "      <th>4</th>\n",
       "      <td>5</td>\n",
       "      <td>0</td>\n",
       "      <td>3</td>\n",
       "      <td>1</td>\n",
       "      <td>35</td>\n",
       "      <td>0</td>\n",
       "      <td>0</td>\n",
       "    </tr>\n",
       "    <tr>\n",
       "      <th>...</th>\n",
       "      <td>...</td>\n",
       "      <td>...</td>\n",
       "      <td>...</td>\n",
       "      <td>...</td>\n",
       "      <td>...</td>\n",
       "      <td>...</td>\n",
       "      <td>...</td>\n",
       "    </tr>\n",
       "    <tr>\n",
       "      <th>886</th>\n",
       "      <td>887</td>\n",
       "      <td>0</td>\n",
       "      <td>2</td>\n",
       "      <td>1</td>\n",
       "      <td>27</td>\n",
       "      <td>0</td>\n",
       "      <td>0</td>\n",
       "    </tr>\n",
       "    <tr>\n",
       "      <th>887</th>\n",
       "      <td>888</td>\n",
       "      <td>1</td>\n",
       "      <td>1</td>\n",
       "      <td>0</td>\n",
       "      <td>19</td>\n",
       "      <td>0</td>\n",
       "      <td>0</td>\n",
       "    </tr>\n",
       "    <tr>\n",
       "      <th>888</th>\n",
       "      <td>889</td>\n",
       "      <td>0</td>\n",
       "      <td>3</td>\n",
       "      <td>0</td>\n",
       "      <td>0</td>\n",
       "      <td>1</td>\n",
       "      <td>2</td>\n",
       "    </tr>\n",
       "    <tr>\n",
       "      <th>889</th>\n",
       "      <td>890</td>\n",
       "      <td>1</td>\n",
       "      <td>1</td>\n",
       "      <td>1</td>\n",
       "      <td>26</td>\n",
       "      <td>0</td>\n",
       "      <td>0</td>\n",
       "    </tr>\n",
       "    <tr>\n",
       "      <th>890</th>\n",
       "      <td>891</td>\n",
       "      <td>0</td>\n",
       "      <td>3</td>\n",
       "      <td>1</td>\n",
       "      <td>32</td>\n",
       "      <td>0</td>\n",
       "      <td>0</td>\n",
       "    </tr>\n",
       "  </tbody>\n",
       "</table>\n",
       "<p>891 rows × 7 columns</p>\n",
       "</div>"
      ],
      "text/plain": [
       "     PassengerId  Survived  Pclass  Sex  Age  SibSp  Parch\n",
       "0              1         0       3    1   22      1      0\n",
       "1              2         1       1    0   38      1      0\n",
       "2              3         1       3    0   26      0      0\n",
       "3              4         1       1    0   35      1      0\n",
       "4              5         0       3    1   35      0      0\n",
       "..           ...       ...     ...  ...  ...    ...    ...\n",
       "886          887         0       2    1   27      0      0\n",
       "887          888         1       1    0   19      0      0\n",
       "888          889         0       3    0    0      1      2\n",
       "889          890         1       1    1   26      0      0\n",
       "890          891         0       3    1   32      0      0\n",
       "\n",
       "[891 rows x 7 columns]"
      ]
     },
     "execution_count": 6,
     "metadata": {},
     "output_type": "execute_result"
    }
   ],
   "source": [
    "data=data.drop(columns=[\"Cabin\"])\n",
    "data[\"Age\"]= data[\"Age\"].fillna(0).astype(int)\n",
    "data[\"Sex\"]=data[\"Sex\"].replace(['female','male'],[0,1])\n",
    "data"
   ]
  },
  {
   "cell_type": "markdown",
   "id": "8ea3e9a2-a0dc-42c2-83ae-d976d106814c",
   "metadata": {},
   "source": [
    "Ahora le haré shuffle a los datos y usaré el 70% para el training y el 30% para test."
   ]
  },
  {
   "cell_type": "code",
   "execution_count": 7,
   "id": "c7d9f197-34f3-4f7c-811c-56c43a844d20",
   "metadata": {},
   "outputs": [],
   "source": [
    "from sklearn.model_selection import train_test_split\n",
    "\n",
    "f_train, f_test = train_test_split(data, test_size=0.3)"
   ]
  },
  {
   "cell_type": "markdown",
   "id": "067cac62-6b21-46e8-a03c-88d1d0af7766",
   "metadata": {},
   "source": [
    "Ordeno los datos nuevamente por Id de pasajero."
   ]
  },
  {
   "cell_type": "code",
   "execution_count": 8,
   "id": "2d64392e-7c39-4fe2-94dc-3193a8e8d6fe",
   "metadata": {},
   "outputs": [],
   "source": [
    "f_train=f_train.sort_values(['PassengerId'])\n",
    "f_test=f_test.sort_values(['PassengerId'])"
   ]
  },
  {
   "cell_type": "code",
   "execution_count": 9,
   "id": "c37ba927-e009-456b-902c-ab1a9edbc0d4",
   "metadata": {},
   "outputs": [
    {
     "data": {
      "text/html": [
       "<style type=\"text/css\">\n",
       "#T_863da_row0_col0, #T_863da_row1_col1, #T_863da_row2_col2, #T_863da_row3_col3, #T_863da_row4_col4, #T_863da_row5_col5, #T_863da_row6_col6 {\n",
       "  background-color: #023858;\n",
       "  color: #f1f1f1;\n",
       "}\n",
       "#T_863da_row0_col1 {\n",
       "  background-color: #adc1dd;\n",
       "  color: #000000;\n",
       "}\n",
       "#T_863da_row0_col2 {\n",
       "  background-color: #d8d7e9;\n",
       "  color: #000000;\n",
       "}\n",
       "#T_863da_row0_col3 {\n",
       "  background-color: #acc0dd;\n",
       "  color: #000000;\n",
       "}\n",
       "#T_863da_row0_col4 {\n",
       "  background-color: #b5c4df;\n",
       "  color: #000000;\n",
       "}\n",
       "#T_863da_row0_col5, #T_863da_row1_col5 {\n",
       "  background-color: #eee9f3;\n",
       "  color: #000000;\n",
       "}\n",
       "#T_863da_row0_col6 {\n",
       "  background-color: #e0dded;\n",
       "  color: #000000;\n",
       "}\n",
       "#T_863da_row1_col0 {\n",
       "  background-color: #f4edf6;\n",
       "  color: #000000;\n",
       "}\n",
       "#T_863da_row1_col2 {\n",
       "  background-color: #fcf4fa;\n",
       "  color: #000000;\n",
       "}\n",
       "#T_863da_row1_col3, #T_863da_row2_col0, #T_863da_row2_col4, #T_863da_row3_col1, #T_863da_row3_col6, #T_863da_row4_col2, #T_863da_row4_col5, #T_863da_row5_col0 {\n",
       "  background-color: #fff7fb;\n",
       "  color: #000000;\n",
       "}\n",
       "#T_863da_row1_col4 {\n",
       "  background-color: #bfc9e1;\n",
       "  color: #000000;\n",
       "}\n",
       "#T_863da_row1_col6 {\n",
       "  background-color: #d2d3e7;\n",
       "  color: #000000;\n",
       "}\n",
       "#T_863da_row2_col1 {\n",
       "  background-color: #ede7f2;\n",
       "  color: #000000;\n",
       "}\n",
       "#T_863da_row2_col3 {\n",
       "  background-color: #8eb3d5;\n",
       "  color: #000000;\n",
       "}\n",
       "#T_863da_row2_col5 {\n",
       "  background-color: #d2d2e7;\n",
       "  color: #000000;\n",
       "}\n",
       "#T_863da_row2_col6 {\n",
       "  background-color: #dcdaeb;\n",
       "  color: #000000;\n",
       "}\n",
       "#T_863da_row3_col0 {\n",
       "  background-color: #f2ecf5;\n",
       "  color: #000000;\n",
       "}\n",
       "#T_863da_row3_col2 {\n",
       "  background-color: #a8bedc;\n",
       "  color: #000000;\n",
       "}\n",
       "#T_863da_row3_col4 {\n",
       "  background-color: #c4cbe3;\n",
       "  color: #000000;\n",
       "}\n",
       "#T_863da_row3_col5 {\n",
       "  background-color: #f1ebf5;\n",
       "  color: #000000;\n",
       "}\n",
       "#T_863da_row4_col0, #T_863da_row4_col6 {\n",
       "  background-color: #e7e3f0;\n",
       "  color: #000000;\n",
       "}\n",
       "#T_863da_row4_col1 {\n",
       "  background-color: #a5bddb;\n",
       "  color: #000000;\n",
       "}\n",
       "#T_863da_row4_col3 {\n",
       "  background-color: #abbfdc;\n",
       "  color: #000000;\n",
       "}\n",
       "#T_863da_row5_col1 {\n",
       "  background-color: #c0c9e2;\n",
       "  color: #000000;\n",
       "}\n",
       "#T_863da_row5_col2 {\n",
       "  background-color: #b3c3de;\n",
       "  color: #000000;\n",
       "}\n",
       "#T_863da_row5_col3 {\n",
       "  background-color: #c5cce3;\n",
       "  color: #000000;\n",
       "}\n",
       "#T_863da_row5_col4 {\n",
       "  background-color: #ede8f3;\n",
       "  color: #000000;\n",
       "}\n",
       "#T_863da_row5_col6 {\n",
       "  background-color: #63a2cb;\n",
       "  color: #f1f1f1;\n",
       "}\n",
       "#T_863da_row6_col0 {\n",
       "  background-color: #f7f0f7;\n",
       "  color: #000000;\n",
       "}\n",
       "#T_863da_row6_col1 {\n",
       "  background-color: #a2bcda;\n",
       "  color: #000000;\n",
       "}\n",
       "#T_863da_row6_col2 {\n",
       "  background-color: #c8cde4;\n",
       "  color: #000000;\n",
       "}\n",
       "#T_863da_row6_col3 {\n",
       "  background-color: #dedcec;\n",
       "  color: #000000;\n",
       "}\n",
       "#T_863da_row6_col4 {\n",
       "  background-color: #d4d4e8;\n",
       "  color: #000000;\n",
       "}\n",
       "#T_863da_row6_col5 {\n",
       "  background-color: #69a5cc;\n",
       "  color: #f1f1f1;\n",
       "}\n",
       "</style>\n",
       "<table id=\"T_863da\">\n",
       "  <thead>\n",
       "    <tr>\n",
       "      <th class=\"blank level0\" >&nbsp;</th>\n",
       "      <th id=\"T_863da_level0_col0\" class=\"col_heading level0 col0\" >PassengerId</th>\n",
       "      <th id=\"T_863da_level0_col1\" class=\"col_heading level0 col1\" >Survived</th>\n",
       "      <th id=\"T_863da_level0_col2\" class=\"col_heading level0 col2\" >Pclass</th>\n",
       "      <th id=\"T_863da_level0_col3\" class=\"col_heading level0 col3\" >Sex</th>\n",
       "      <th id=\"T_863da_level0_col4\" class=\"col_heading level0 col4\" >Age</th>\n",
       "      <th id=\"T_863da_level0_col5\" class=\"col_heading level0 col5\" >SibSp</th>\n",
       "      <th id=\"T_863da_level0_col6\" class=\"col_heading level0 col6\" >Parch</th>\n",
       "    </tr>\n",
       "  </thead>\n",
       "  <tbody>\n",
       "    <tr>\n",
       "      <th id=\"T_863da_level0_row0\" class=\"row_heading level0 row0\" >PassengerId</th>\n",
       "      <td id=\"T_863da_row0_col0\" class=\"data row0 col0\" >1.000000</td>\n",
       "      <td id=\"T_863da_row0_col1\" class=\"data row0 col1\" >0.013208</td>\n",
       "      <td id=\"T_863da_row0_col2\" class=\"data row0 col2\" >-0.069882</td>\n",
       "      <td id=\"T_863da_row0_col3\" class=\"data row0 col3\" >0.021003</td>\n",
       "      <td id=\"T_863da_row0_col4\" class=\"data row0 col4\" >0.085496</td>\n",
       "      <td id=\"T_863da_row0_col5\" class=\"data row0 col5\" >-0.070065</td>\n",
       "      <td id=\"T_863da_row0_col6\" class=\"data row0 col6\" >-0.011781</td>\n",
       "    </tr>\n",
       "    <tr>\n",
       "      <th id=\"T_863da_level0_row1\" class=\"row_heading level0 row1\" >Survived</th>\n",
       "      <td id=\"T_863da_row1_col0\" class=\"data row1 col0\" >0.013208</td>\n",
       "      <td id=\"T_863da_row1_col1\" class=\"data row1 col1\" >1.000000</td>\n",
       "      <td id=\"T_863da_row1_col2\" class=\"data row1 col2\" >-0.338767</td>\n",
       "      <td id=\"T_863da_row1_col3\" class=\"data row1 col3\" >-0.526115</td>\n",
       "      <td id=\"T_863da_row1_col4\" class=\"data row1 col4\" >0.048815</td>\n",
       "      <td id=\"T_863da_row1_col5\" class=\"data row1 col5\" >-0.067720</td>\n",
       "      <td id=\"T_863da_row1_col6\" class=\"data row1 col6\" >0.062590</td>\n",
       "    </tr>\n",
       "    <tr>\n",
       "      <th id=\"T_863da_level0_row2\" class=\"row_heading level0 row2\" >Pclass</th>\n",
       "      <td id=\"T_863da_row2_col0\" class=\"data row2 col0\" >-0.069882</td>\n",
       "      <td id=\"T_863da_row2_col1\" class=\"data row2 col1\" >-0.338767</td>\n",
       "      <td id=\"T_863da_row2_col2\" class=\"data row2 col2\" >1.000000</td>\n",
       "      <td id=\"T_863da_row2_col3\" class=\"data row2 col3\" >0.135894</td>\n",
       "      <td id=\"T_863da_row2_col4\" class=\"data row2 col4\" >-0.367588</td>\n",
       "      <td id=\"T_863da_row2_col5\" class=\"data row2 col5\" >0.092480</td>\n",
       "      <td id=\"T_863da_row2_col6\" class=\"data row2 col6\" >0.009756</td>\n",
       "    </tr>\n",
       "    <tr>\n",
       "      <th id=\"T_863da_level0_row3\" class=\"row_heading level0 row3\" >Sex</th>\n",
       "      <td id=\"T_863da_row3_col0\" class=\"data row3 col0\" >0.021003</td>\n",
       "      <td id=\"T_863da_row3_col1\" class=\"data row3 col1\" >-0.526115</td>\n",
       "      <td id=\"T_863da_row3_col2\" class=\"data row3 col2\" >0.135894</td>\n",
       "      <td id=\"T_863da_row3_col3\" class=\"data row3 col3\" >1.000000</td>\n",
       "      <td id=\"T_863da_row3_col4\" class=\"data row3 col4\" >0.025769</td>\n",
       "      <td id=\"T_863da_row3_col5\" class=\"data row3 col5\" >-0.093950</td>\n",
       "      <td id=\"T_863da_row3_col6\" class=\"data row3 col6\" >-0.236415</td>\n",
       "    </tr>\n",
       "    <tr>\n",
       "      <th id=\"T_863da_level0_row4\" class=\"row_heading level0 row4\" >Age</th>\n",
       "      <td id=\"T_863da_row4_col0\" class=\"data row4 col0\" >0.085496</td>\n",
       "      <td id=\"T_863da_row4_col1\" class=\"data row4 col1\" >0.048815</td>\n",
       "      <td id=\"T_863da_row4_col2\" class=\"data row4 col2\" >-0.367588</td>\n",
       "      <td id=\"T_863da_row4_col3\" class=\"data row4 col3\" >0.025769</td>\n",
       "      <td id=\"T_863da_row4_col4\" class=\"data row4 col4\" >1.000000</td>\n",
       "      <td id=\"T_863da_row4_col5\" class=\"data row4 col5\" >-0.203741</td>\n",
       "      <td id=\"T_863da_row4_col6\" class=\"data row4 col6\" >-0.051322</td>\n",
       "    </tr>\n",
       "    <tr>\n",
       "      <th id=\"T_863da_level0_row5\" class=\"row_heading level0 row5\" >SibSp</th>\n",
       "      <td id=\"T_863da_row5_col0\" class=\"data row5 col0\" >-0.070065</td>\n",
       "      <td id=\"T_863da_row5_col1\" class=\"data row5 col1\" >-0.067720</td>\n",
       "      <td id=\"T_863da_row5_col2\" class=\"data row5 col2\" >0.092480</td>\n",
       "      <td id=\"T_863da_row5_col3\" class=\"data row5 col3\" >-0.093950</td>\n",
       "      <td id=\"T_863da_row5_col4\" class=\"data row5 col4\" >-0.203741</td>\n",
       "      <td id=\"T_863da_row5_col5\" class=\"data row5 col5\" >1.000000</td>\n",
       "      <td id=\"T_863da_row5_col6\" class=\"data row5 col6\" >0.423113</td>\n",
       "    </tr>\n",
       "    <tr>\n",
       "      <th id=\"T_863da_level0_row6\" class=\"row_heading level0 row6\" >Parch</th>\n",
       "      <td id=\"T_863da_row6_col0\" class=\"data row6 col0\" >-0.011781</td>\n",
       "      <td id=\"T_863da_row6_col1\" class=\"data row6 col1\" >0.062590</td>\n",
       "      <td id=\"T_863da_row6_col2\" class=\"data row6 col2\" >0.009756</td>\n",
       "      <td id=\"T_863da_row6_col3\" class=\"data row6 col3\" >-0.236415</td>\n",
       "      <td id=\"T_863da_row6_col4\" class=\"data row6 col4\" >-0.051322</td>\n",
       "      <td id=\"T_863da_row6_col5\" class=\"data row6 col5\" >0.423113</td>\n",
       "      <td id=\"T_863da_row6_col6\" class=\"data row6 col6\" >1.000000</td>\n",
       "    </tr>\n",
       "  </tbody>\n",
       "</table>\n"
      ],
      "text/plain": [
       "<pandas.io.formats.style.Styler at 0x1245be9d0>"
      ]
     },
     "execution_count": 9,
     "metadata": {},
     "output_type": "execute_result"
    }
   ],
   "source": [
    "f_train.corr().style.background_gradient()"
   ]
  },
  {
   "cell_type": "markdown",
   "id": "644db705-74d6-4ac7-b7b7-74fffec5a571",
   "metadata": {},
   "source": [
    "Notamos que:\n",
    "1) La gente que es de tiene peor clase sobrevivió menos (r negativo).\n",
    "2) Los hombres sobrevivieron menos (tanto hombre como sobreviviente es 1 y r es negativo).\n",
    "3) La gente que sobrevive tiene mayor cantidad de hijos o padres (debido a que r es positivo). \n",
    "\n",
    "Calculemos porcentajes:\n",
    "\n",
    "a) % De sobrevivientes por clases (1st, 2d y 3d)\n"
   ]
  },
  {
   "cell_type": "code",
   "execution_count": 10,
   "id": "668ff743-7c3d-42ec-a779-05c59aa2b5b4",
   "metadata": {},
   "outputs": [
    {
     "name": "stdout",
     "output_type": "stream",
     "text": [
      "% 1st class sobrevivientes: 66.0\n",
      "% 2d class sobrevivientes: 47.96747967479675\n",
      "% 3d class sobrevivientes: 26.571428571428573\n"
     ]
    }
   ],
   "source": [
    "#1st class\n",
    "fc=f_train.loc[f_train.Pclass==1][\"Survived\"]\n",
    "rate_fc=sum(fc)/len(fc)*100\n",
    "print(\"% 1st class sobrevivientes:\", rate_fc)\n",
    "#2d class\n",
    "sc=f_train.loc[f_train.Pclass==2][\"Survived\"]\n",
    "rate_sc=sum(sc)/len(sc)*100\n",
    "print(\"% 2d class sobrevivientes:\", rate_sc)\n",
    "#3d class\n",
    "tc=f_train.loc[f_train.Pclass==3][\"Survived\"]\n",
    "rate_tc=sum(tc)/len(tc)*100\n",
    "print(\"% 3d class sobrevivientes:\", rate_tc)"
   ]
  },
  {
   "cell_type": "markdown",
   "id": "5b7449b0-5a8b-4eed-9aa9-e9833b5ac9c7",
   "metadata": {},
   "source": [
    "b) Ahora lo mismo con sexo"
   ]
  },
  {
   "cell_type": "code",
   "execution_count": 11,
   "id": "feae5fb3-2fa9-4fef-bd84-e59f3e68eb28",
   "metadata": {},
   "outputs": [
    {
     "name": "stdout",
     "output_type": "stream",
     "text": [
      "% mujeres sobrevivientes: 73.10924369747899\n",
      "% hombres sobrevivientes: 20.0\n"
     ]
    }
   ],
   "source": [
    "#Women\n",
    "fem=f_train.loc[f_train.Sex==0][\"Survived\"]\n",
    "rate_fem=sum(fem)/len(fem)*100\n",
    "print(\"% mujeres sobrevivientes:\", rate_fem)\n",
    "#Man\n",
    "mal=f_train.loc[f_train.Sex==1][\"Survived\"]\n",
    "rate_mal=sum(mal)/len(mal)*100\n",
    "print(\"% hombres sobrevivientes:\", rate_mal)"
   ]
  },
  {
   "cell_type": "markdown",
   "id": "1332653f-e743-4fae-a2e2-1edbec67c343",
   "metadata": {},
   "source": [
    "Así también podría hacerse combinaciones de % de mujeres/hombres con hijos sobrevivieron, mujeres sobrevivientes de 1st clase vs 2d/3d clase, etc.\n",
    "\n",
    "Ahora para predecir utilizaré 2 métodos distintos y los evaluaré entre sí.\n"
   ]
  },
  {
   "cell_type": "code",
   "execution_count": 12,
   "id": "ef98d6b8-c3a7-48a0-be9b-b78b608eb3c1",
   "metadata": {},
   "outputs": [],
   "source": [
    "y = f_train[\"Survived\"].values\n",
    "x = f_train[['Pclass','Sex','Age','SibSp','Parch']].values"
   ]
  },
  {
   "cell_type": "markdown",
   "id": "9eb06104-b20e-4318-afed-3be4918ed57d",
   "metadata": {},
   "source": [
    "Partiré con Partial Least Squares Regression. Personalmente la utilizo cuando hay pocos datos a analizar o cuando veo correlación entre variables, acá noté que hay relación entre clase - edad y  entre cantidad de hijos - familiares. "
   ]
  },
  {
   "cell_type": "code",
   "execution_count": 13,
   "id": "c765681c-877b-42df-9465-634d7dec7504",
   "metadata": {},
   "outputs": [],
   "source": [
    "from sklearn.cross_decomposition import PLSRegression\n",
    "pls =PLSRegression(n_components=3)\n",
    "pls = pls.fit(x, y)"
   ]
  },
  {
   "cell_type": "code",
   "execution_count": 14,
   "id": "94c6625e-f6ef-4149-81ad-918ac87969f6",
   "metadata": {},
   "outputs": [
    {
     "name": "stdout",
     "output_type": "stream",
     "text": [
      "MSE PLS Regression: 0.39202521348014213\n",
      "R2 PLS Regression: 0.36116686810089604\n",
      "The accuracy is:  16.37018896026211 %\n"
     ]
    }
   ],
   "source": [
    "from sklearn.metrics import mean_squared_error\n",
    "from sklearn.metrics import r2_score\n",
    "from sklearn.model_selection import cross_validate\n",
    "print(\"RMSE PLS Regression:\",np.sqrt(mean_squared_error(y, pls.predict(x))))\n",
    "print(\"R2 PLS Regression:\",r2_score(y, pls.predict(x)))\n",
    "predictions = np.mean(cross_validate(pls,x,y,cv=100)['test_score'])\n",
    "print('The accuracy is: ',predictions*100,'%')"
   ]
  },
  {
   "cell_type": "markdown",
   "id": "2420dccb-01eb-4a95-ae59-dbf857e1c0e3",
   "metadata": {},
   "source": [
    "Para comparar PLS utilizaré Decision Tree ya que es fácil de entender/interpretar, no requiere normalización de datos y se puede utilizar métodos estadisticos para evaluar desempeño."
   ]
  },
  {
   "cell_type": "code",
   "execution_count": 16,
   "id": "56afabcc-b148-4ebe-acf7-40b4380edf54",
   "metadata": {},
   "outputs": [],
   "source": [
    "clf = tree.DecisionTreeClassifier()\n",
    "clf = clf.fit(x, y)"
   ]
  },
  {
   "cell_type": "code",
   "execution_count": 17,
   "id": "c1370c3e-dbfe-41bd-9a25-d2593780f51b",
   "metadata": {},
   "outputs": [
    {
     "name": "stdout",
     "output_type": "stream",
     "text": [
      "RMSE DT: 0.2717283129956595\n",
      "R2 DT: 0.6930771537505891\n",
      "The accuracy is:  79.1190476190476 %\n"
     ]
    }
   ],
   "source": [
    "print(\"RMSE DT:\",np.sqrt(mean_squared_error(y, clf.predict(x))))\n",
    "print(\"R2 DT:\",r2_score(y, clf.predict(x)))\n",
    "predictions = np.mean(cross_validate(clf,x,y,cv=100)['test_score'])\n",
    "print('The accuracy is: ',predictions*100,'%')"
   ]
  },
  {
   "cell_type": "markdown",
   "id": "4ed1543a-c747-4cd6-8e2d-c8642c82f885",
   "metadata": {},
   "source": [
    "Si bien los resultados no son aceptables: un modelo aceptable tiene RMSE entre 0.2 y 0.5 con R2>0.7, nuestro modelo no cumple el segundo. Aún así veré el resultado del test. "
   ]
  },
  {
   "cell_type": "code",
   "execution_count": 18,
   "id": "1a7483d1-a3cb-47d3-94b1-f1188100d7b4",
   "metadata": {},
   "outputs": [],
   "source": [
    "real_result=f_test[['PassengerId','Survived']]\n",
    "test=f_test[['Pclass','Sex','Age','SibSp','Parch']]\n",
    "f_test=f_test.drop(columns=['PassengerId'])"
   ]
  },
  {
   "cell_type": "code",
   "execution_count": 19,
   "id": "f665942a-dd93-44b8-9514-8bdcbd3a491f",
   "metadata": {},
   "outputs": [
    {
     "name": "stdout",
     "output_type": "stream",
     "text": [
      "MSE PLS Regression: 0.3615263577270132\n",
      "R2 PLS Regression: 0.4171794438587182\n"
     ]
    },
    {
     "name": "stderr",
     "output_type": "stream",
     "text": [
      "/Users/franciscavillanueva/Python/.venv/lib/python3.9/site-packages/sklearn/base.py:443: UserWarning: X has feature names, but PLSRegression was fitted without feature names\n",
      "  warnings.warn(\n"
     ]
    }
   ],
   "source": [
    "from sklearn.metrics import accuracy_score\n",
    "pls_p=pls.predict(test)\n",
    "print(\"RMSE PLS Regression:\",np.sqrt(mean_squared_error(real_result['Survived'], pls_p)))\n",
    "print(\"R2 PLS Regression:\",r2_score(real_result['Survived'], pls_p))"
   ]
  },
  {
   "cell_type": "code",
   "execution_count": 20,
   "id": "674f8fcc-ec92-4928-b206-ef929e637b95",
   "metadata": {},
   "outputs": [
    {
     "name": "stdout",
     "output_type": "stream",
     "text": [
      "MSE DT: 0.4097687735311148\n",
      "R2 DT: 0.25125721735891215\n"
     ]
    },
    {
     "name": "stderr",
     "output_type": "stream",
     "text": [
      "/Users/franciscavillanueva/Python/.venv/lib/python3.9/site-packages/sklearn/base.py:443: UserWarning: X has feature names, but DecisionTreeClassifier was fitted without feature names\n",
      "  warnings.warn(\n"
     ]
    }
   ],
   "source": [
    "clf_p=clf.predict(test)\n",
    "print(\"RMSE DT:\",np.sqrt(mean_squared_error(real_result['Survived'], clf_p)))\n",
    "print(\"R2 DT:\",r2_score(real_result['Survived'], clf_p))"
   ]
  },
  {
   "cell_type": "markdown",
   "id": "e7ded1ad-9a04-440a-9870-28b2f57b0987",
   "metadata": {},
   "source": [
    "Crearé 2 DataFrame nuevos con las predicciones de los modelos y las variables entregadas para así poder hacer histogramas y comparar sobrevivientes por edad, sexo, clase, etc."
   ]
  },
  {
   "cell_type": "code",
   "execution_count": 21,
   "id": "64d967f5-bf61-4269-baca-120fa75632e8",
   "metadata": {},
   "outputs": [],
   "source": [
    "pls_file=test.copy()\n",
    "pls_p=pls_p.flatten()\n",
    "pls_file['Survived']=pls_p.tolist()\n",
    "clf_file=test.copy()\n",
    "clf_file['Survived']=clf_p.tolist()"
   ]
  },
  {
   "cell_type": "code",
   "execution_count": 34,
   "id": "4c0e9f02-cdf0-458c-aaed-8aacf6749524",
   "metadata": {},
   "outputs": [
    {
     "data": {
      "image/png": "[encoded data removed]",
      "text/plain": [
       "<Figure size 432x288 with 1 Axes>"
      ]
     },
     "metadata": {
      "needs_background": "light"
     },
     "output_type": "display_data"
    },
    {
     "data": {
      "image/png": "[encoded data removed]",
      "text/plain": [
       "<Figure size 432x288 with 1 Axes>"
      ]
     },
     "metadata": {
      "needs_background": "light"
     },
     "output_type": "display_data"
    }
   ],
   "source": [
    "from sklearn.metrics import roc_curve,auc\n",
    "from sklearn.metrics import RocCurveDisplay\n",
    "import matplotlib.pyplot as plt\n",
    "\n",
    "fpr, tpr, _ = roc_curve(f_test['Survived'], pls_p)\n",
    "roc_pls = RocCurveDisplay(fpr=fpr, tpr=tpr, roc_auc=auc(fpr, tpr))\n",
    "fpr1, tpr1, _ = roc_curve(f_test['Survived'],clf_p)\n",
    "roc_clf = RocCurveDisplay(fpr=fpr1, tpr=tpr1, roc_auc=auc(fpr1, tpr1))\n",
    "\n",
    "roc_pls.plot()\n",
    "roc_clf.plot()\n",
    "plt.show()"
   ]
  },
  {
   "cell_type": "code",
   "execution_count": 54,
   "id": "5839187b-c37f-4a2e-a8a1-4abf09a57412",
   "metadata": {},
   "outputs": [
    {
     "data": {
      "text/plain": [
       "array([[<AxesSubplot:title={'center':'Survived'}>]], dtype=object)"
      ]
     },
     "execution_count": 54,
     "metadata": {},
     "output_type": "execute_result"
    },
    {
     "data": {
      "image/png": "[encoded data removed]",
      "text/plain": [
       "<Figure size 432x288 with 1 Axes>"
      ]
     },
     "metadata": {
      "needs_background": "light"
     },
     "output_type": "display_data"
    },
    {
     "data": {
      "image/png": "[encoded data removed]",
      "text/plain": [
       "<Figure size 432x288 with 1 Axes>"
      ]
     },
     "metadata": {
      "needs_background": "light"
     },
     "output_type": "display_data"
    },
    {
     "data": {
      "image/png": "[encoded data removed]",
      "text/plain": [
       "<Figure size 432x288 with 1 Axes>"
      ]
     },
     "metadata": {
      "needs_background": "light"
     },
     "output_type": "display_data"
    }
   ],
   "source": [
    "f_test.hist(column='Survived',bins=3,grid=False)\n",
    "pls_file.hist(column='Survived',bins=3,grid=False)\n",
    "clf_file.hist(column='Survived',bins=3,grid=False)"
   ]
  },
  {
   "cell_type": "markdown",
   "id": "476752ca-d66e-499f-b689-bd3d8a72737b",
   "metadata": {},
   "source": [
    "Conclusiones:\n",
    "1. Se puede ver que Desicion trees tiene overfitting debido a que RMSE sube al doble en el testing, por lo que este modelo no es buen predictor para los datos que le entregué (habría que hacer pruning después del training)\n",
    "\n",
    "2. El cambio de valor de RMSE entre train y test en PLS es de 0.03 lo cual es bueno, pero el R2 sigue siendo malo. Viendo específicamente la curva ROC y el valor AUC (0.87) notamos que el acierto de este modelo es bueno.\n",
    "\n",
    "3. Ahora para poder detectar qué variables podrían ser sacadas para la mejora de estos modelos podríamos graficar los aciertos con respecto a edad, sexo, clase, cant de familiares pero quedará como trabajo futuro."
   ]
  },
  {
   "cell_type": "code",
   "execution_count": null,
   "id": "2a0c2c7c-8c3e-4439-9d27-6459f5b334e9",
   "metadata": {},
   "outputs": [],
   "source": []
  }
 ],
 "metadata": {
  "kernelspec": {
   "display_name": "Python 3 (ipykernel)",
   "language": "python",
   "name": "python3"
  },
  "language_info": {
   "codemirror_mode": {
    "name": "ipython",
    "version": 3
   },
   "file_extension": ".py",
   "mimetype": "text/x-python",
   "name": "python",
   "nbconvert_exporter": "python",
   "pygments_lexer": "ipython3",
   "version": "3.9.1"
  }
 },
 "nbformat": 4,
 "nbformat_minor": 5
}
